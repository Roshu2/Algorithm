{
 "cells": [
  {
   "cell_type": "code",
   "execution_count": null,
   "metadata": {},
   "outputs": [],
   "source": [
    "#별찍기\n",
    "a = int(input())\n",
    "b = \"*\"\n",
    "for i in range(a):\n",
    "    print(b*(i + 1))"
   ]
  },
  {
   "cell_type": "code",
   "execution_count": null,
   "metadata": {},
   "outputs": [],
   "source": [
    "# 4673 셀프넘버\n",
    "\n",
    "numbers = set(range(1, 10000))\n",
    "remove_set = set()\n",
    "\n",
    "for num in numbers:\n",
    "    for n in str(num):\n",
    "        num += int(n)\n",
    "    remove_set.add(num)\n",
    "self_numbers = numbers - remove_set\n",
    "for self_num in sorted(self_numbers):\n",
    "    print(self_num)\n",
    "    "
   ]
  },
  {
   "cell_type": "code",
   "execution_count": 3,
   "metadata": {},
   "outputs": [
    {
     "name": "stdout",
     "output_type": "stream",
     "text": [
      "['s', 'i', 'm', 'p']\n",
      "?\n"
     ]
    }
   ],
   "source": [
    "#1157 단어공부\n",
    "\n",
    "word = input().lower() # lower는 소문자로만 받는 함수\n",
    "word_list = list(set(word))\n",
    "cnt = []\n",
    "for i in word_list:\n",
    "    count = word.count(i) # word안에 count함수로 알파벳 몇개있는데 int로 반환\n",
    "    cnt.append(count)\n",
    "if cnt.count(max(cnt)) >= 2:\n",
    "    print(\"?\") # cnt 리스트안에 가장큰 숫자가 두개이상이면 ? 프린트\n",
    "else:\n",
    "    print(word_list[cnt.index(max(cnt))].upper()) # upper는 대문자만 출력\n",
    "    "
   ]
  },
  {
   "cell_type": "code",
   "execution_count": 12,
   "metadata": {},
   "outputs": [
    {
     "name": "stdout",
     "output_type": "stream",
     "text": [
      "0 13\n"
     ]
    }
   ],
   "source": [
    "#2525 오븐시계\n",
    "\n",
    "hour, min = map(int, input().split())\n",
    "time_need = int(input())\n",
    "\n",
    "if min + time_need >= 60:\n",
    "    minute = (min + time_need)%60\n",
    "    hour += (min + time_need)//60\n",
    "    if hour >= 24:\n",
    "        hour = 0 + hour - 24\n",
    "else:\n",
    "    minute = min + time_need\n",
    "\n",
    "print(hour, minute)\n",
    "    "
   ]
  },
  {
   "cell_type": "code",
   "execution_count": 19,
   "metadata": {},
   "outputs": [
    {
     "name": "stdout",
     "output_type": "stream",
     "text": [
      "12000\n"
     ]
    }
   ],
   "source": [
    "#2480 주사위 세개\n",
    "\n",
    "a, b, c = map(int, input().split())\n",
    "\n",
    "if a == b and b == c:\n",
    "    result = 10000 + a*1000\n",
    "elif (a == b and b != c) or (a == c and a != b):\n",
    "    result = 1000 + a*100\n",
    "elif b == c and b != a:\n",
    "    result = 1000 + b*100\n",
    "else:\n",
    "    result = max(a, b, c)*100\n",
    "    \n",
    "print(result)"
   ]
  },
  {
   "cell_type": "code",
   "execution_count": null,
   "metadata": {},
   "outputs": [],
   "source": [
    "#3003 "
   ]
  }
 ],
 "metadata": {
  "kernelspec": {
   "display_name": "Python 3.10.4 64-bit",
   "language": "python",
   "name": "python3"
  },
  "language_info": {
   "codemirror_mode": {
    "name": "ipython",
    "version": 3
   },
   "file_extension": ".py",
   "mimetype": "text/x-python",
   "name": "python",
   "nbconvert_exporter": "python",
   "pygments_lexer": "ipython3",
   "version": "3.10.4"
  },
  "orig_nbformat": 4,
  "vscode": {
   "interpreter": {
    "hash": "041d1bf15cd7204c11d27e64d7e3f888abac55cd4faa8256afeeb4489e7f0daf"
   }
  }
 },
 "nbformat": 4,
 "nbformat_minor": 2
}
